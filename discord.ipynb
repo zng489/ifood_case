{
 "cells": [
  {
   "cell_type": "code",
   "execution_count": 18,
   "id": "a48f9d9c",
   "metadata": {},
   "outputs": [
    {
     "name": "stdout",
     "output_type": "stream",
     "text": [
      "Collecting moto==4.2.12\n",
      "  Downloading moto-4.2.12-py2.py3-none-any.whl.metadata (13 kB)\n",
      "Requirement already satisfied: boto3>=1.9.201 in /home/lenovo/miniconda3/envs/worker/lib/python3.12/site-packages (from moto==4.2.12) (1.37.36)\n",
      "Requirement already satisfied: botocore>=1.12.201 in /home/lenovo/miniconda3/envs/worker/lib/python3.12/site-packages (from moto==4.2.12) (1.37.36)\n",
      "Requirement already satisfied: cryptography>=3.3.1 in /home/lenovo/miniconda3/envs/worker/lib/python3.12/site-packages (from moto==4.2.12) (42.0.8)\n",
      "Requirement already satisfied: requests>=2.5 in /home/lenovo/miniconda3/envs/worker/lib/python3.12/site-packages (from moto==4.2.12) (2.32.3)\n",
      "Requirement already satisfied: xmltodict in /home/lenovo/miniconda3/envs/worker/lib/python3.12/site-packages (from moto==4.2.12) (0.14.2)\n",
      "Requirement already satisfied: werkzeug!=2.2.0,!=2.2.1,>=0.5 in /home/lenovo/miniconda3/envs/worker/lib/python3.12/site-packages (from moto==4.2.12) (2.2.3)\n",
      "Requirement already satisfied: python-dateutil<3.0.0,>=2.1 in /home/lenovo/miniconda3/envs/worker/lib/python3.12/site-packages (from moto==4.2.12) (2.9.0.post0)\n",
      "Requirement already satisfied: responses>=0.13.0 in /home/lenovo/miniconda3/envs/worker/lib/python3.12/site-packages (from moto==4.2.12) (0.25.7)\n",
      "Requirement already satisfied: Jinja2>=2.10.1 in /home/lenovo/miniconda3/envs/worker/lib/python3.12/site-packages (from moto==4.2.12) (3.1.4)\n",
      "Requirement already satisfied: jmespath<2.0.0,>=0.7.1 in /home/lenovo/miniconda3/envs/worker/lib/python3.12/site-packages (from boto3>=1.9.201->moto==4.2.12) (0.10.0)\n",
      "Requirement already satisfied: s3transfer<0.12.0,>=0.11.0 in /home/lenovo/miniconda3/envs/worker/lib/python3.12/site-packages (from boto3>=1.9.201->moto==4.2.12) (0.11.5)\n",
      "Requirement already satisfied: urllib3!=2.2.0,<3,>=1.25.4 in /home/lenovo/miniconda3/envs/worker/lib/python3.12/site-packages (from botocore>=1.12.201->moto==4.2.12) (2.2.3)\n",
      "Requirement already satisfied: cffi>=1.12 in /home/lenovo/miniconda3/envs/worker/lib/python3.12/site-packages (from cryptography>=3.3.1->moto==4.2.12) (1.17.1)\n",
      "Requirement already satisfied: MarkupSafe>=2.0 in /home/lenovo/miniconda3/envs/worker/lib/python3.12/site-packages (from Jinja2>=2.10.1->moto==4.2.12) (3.0.2)\n",
      "Requirement already satisfied: six>=1.5 in /home/lenovo/miniconda3/envs/worker/lib/python3.12/site-packages (from python-dateutil<3.0.0,>=2.1->moto==4.2.12) (1.17.0)\n",
      "Requirement already satisfied: charset-normalizer<4,>=2 in /home/lenovo/miniconda3/envs/worker/lib/python3.12/site-packages (from requests>=2.5->moto==4.2.12) (3.4.0)\n",
      "Requirement already satisfied: idna<4,>=2.5 in /home/lenovo/miniconda3/envs/worker/lib/python3.12/site-packages (from requests>=2.5->moto==4.2.12) (3.10)\n",
      "Requirement already satisfied: certifi>=2017.4.17 in /home/lenovo/miniconda3/envs/worker/lib/python3.12/site-packages (from requests>=2.5->moto==4.2.12) (2024.8.30)\n",
      "Requirement already satisfied: pyyaml in /home/lenovo/miniconda3/envs/worker/lib/python3.12/site-packages (from responses>=0.13.0->moto==4.2.12) (6.0.2)\n",
      "Requirement already satisfied: pycparser in /home/lenovo/miniconda3/envs/worker/lib/python3.12/site-packages (from cffi>=1.12->cryptography>=3.3.1->moto==4.2.12) (2.22)\n",
      "Downloading moto-4.2.12-py2.py3-none-any.whl (3.2 MB)\n",
      "\u001b[2K   \u001b[90m━━━━━━━━━━━━━━━━━━━━━━━━━━━━━━━━━━━━━━━━\u001b[0m \u001b[32m3.2/3.2 MB\u001b[0m \u001b[31m582.6 kB/s\u001b[0m eta \u001b[36m0:00:00\u001b[0m00:01\u001b[0m00:03\u001b[0m\n",
      "\u001b[?25hInstalling collected packages: moto\n",
      "  Attempting uninstall: moto\n",
      "    Found existing installation: moto 5.1.4\n",
      "    Uninstalling moto-5.1.4:\n",
      "      Successfully uninstalled moto-5.1.4\n",
      "Successfully installed moto-4.2.12\n"
     ]
    }
   ],
   "source": [
    "!pip install moto==4.2.12\n"
   ]
  },
  {
   "cell_type": "code",
   "execution_count": 19,
   "id": "8d119b2f",
   "metadata": {},
   "outputs": [
    {
     "name": "stdout",
     "output_type": "stream",
     "text": [
      "Name: moto\n",
      "Version: 4.2.12\n",
      "Summary: \n",
      "Home-page: https://github.com/getmoto/moto\n",
      "Author: Steve Pulec\n",
      "Author-email: spulec@gmail.com\n",
      "License: Apache License 2.0\n",
      "Location: /home/lenovo/miniconda3/envs/worker/lib/python3.12/site-packages\n",
      "Requires: boto3, botocore, cryptography, Jinja2, python-dateutil, requests, responses, werkzeug, xmltodict\n",
      "Required-by: \n",
      "Note: you may need to restart the kernel to use updated packages.\n"
     ]
    }
   ],
   "source": [
    "pip show moto"
   ]
  },
  {
   "cell_type": "code",
   "execution_count": null,
   "id": "c58fbb63",
   "metadata": {},
   "outputs": [],
   "source": [
    "from moto import mock_s3  # <- Import correto\n",
    "import boto3\n",
    "def lendo(is_mock=False):\n",
    "    if is_mock:\n",
    "        mock = mock_s3()\n",
    "        mock.start()\n",
    "        \n",
    "        s3 = boto3.client('s3', region_name='us-east-1')\n",
    "        s3.create_bucket(Bucket='yellow_taxi_files')\n",
    "        \n",
    "        s3_uri = 's3a://yellow_taxi_files/yellow_taxi_files/'\n",
    "        print(f\"Lendo de: {s3_uri}\")\n",
    "        \n",
    "        mock.stop()\n",
    "        return s3_uri\n",
    "    else:\n",
    "        s3_uri = 's3a://yellow_taxi_files/yellow_taxi_files/'\n",
    "        return s3_uri\n",
    "    \n",
    "\n",
    "from moto import mock_s3\n",
    "import boto3\n",
    "\n",
    "def salvando(is_mock=False):\n",
    "    if is_mock:\n",
    "        mock = mock_s3()\n",
    "        mock.start()\n",
    "\n",
    "        s3 = boto3.client('s3', region_name='us-east-1')\n",
    "        s3.create_bucket(Bucket='prd_yellow_taxi_table')\n",
    "\n",
    "        output_path = 's3a://prd_yellow_taxi_table/yellow_taxi_output/'\n",
    "        print(f\"Salvando em: {output_path}\")\n",
    "\n",
    "        mock.stop()\n",
    "        return output_path\n",
    "    else:\n",
    "        return 's3a://prd_yellow_taxi_table/yellow_taxi_output/'"
   ]
  },
  {
   "cell_type": "code",
   "execution_count": 2,
   "id": "6058ac8f",
   "metadata": {},
   "outputs": [],
   "source": [
    "from moto import mock_s3\n",
    "import boto3\n",
    "\n",
    "def salvando(is_mock=False):\n",
    "    if is_mock:\n",
    "        mock = mock_s3()\n",
    "        mock.start()\n",
    "\n",
    "        s3 = boto3.client('s3', region_name='us-east-1')\n",
    "        s3.create_bucket(Bucket='prd_yellow_taxi_table')\n",
    "\n",
    "        output_path = 's3a://prd_yellow_taxi_table/yellow_taxi_output/'\n",
    "        print(f\"Salvando em: {output_path}\")\n",
    "\n",
    "        mock.stop()\n",
    "        return output_path\n",
    "    else:\n",
    "        return 's3a://prd_yellow_taxi_table/yellow_taxi_output/'"
   ]
  },
  {
   "cell_type": "code",
   "execution_count": 13,
   "id": "dc65fee0",
   "metadata": {},
   "outputs": [],
   "source": [
    "import boto3\n",
    "from moto import mock_aws\n",
    "\n",
    "def test_s3_upload():\n",
    "    with mock_aws():\n",
    "        s3 = boto3.client('s3', region_name='us-east-1')\n",
    "        s3.create_bucket(Bucket='meu-bucket')\n",
    "        s3.put_object(Bucket='meu-bucket', Key='arquivo.txt', Body='conteúdo'.encode('utf-8'))\n",
    "        response = s3.get_object(Bucket='meu-bucket', Key='arquivo.txt')\n",
    "        conteudo = response['Body'].read().decode('utf-8')\n",
    "        print(conteudo)\n",
    "        assert conteudo == 'conteúdo'"
   ]
  },
  {
   "cell_type": "code",
   "execution_count": 14,
   "id": "3526906d",
   "metadata": {},
   "outputs": [
    {
     "name": "stdout",
     "output_type": "stream",
     "text": [
      "conteúdo\n"
     ]
    },
    {
     "name": "stderr",
     "output_type": "stream",
     "text": [
      "/home/lenovo/miniconda3/envs/worker/lib/python3.12/json/decoder.py:354: RuntimeWarning: coroutine 'Client.run.<locals>.runner' was never awaited\n",
      "  obj, end = self.scan_once(s, idx)\n",
      "RuntimeWarning: Enable tracemalloc to get the object allocation traceback\n"
     ]
    }
   ],
   "source": [
    "test_s3_upload()"
   ]
  },
  {
   "cell_type": "code",
   "execution_count": 4,
   "id": "e7f5963d",
   "metadata": {},
   "outputs": [
    {
     "name": "stdout",
     "output_type": "stream",
     "text": [
      "❌ Defina a variável de ambiente DISCORD_BOT_TOKEN antes de executar.\n"
     ]
    }
   ],
   "source": [
    "import os\n",
    "import discord\n",
    "from discord.ext import commands\n",
    "\n",
    "# Carrega o TOKEN de variável de ambiente\n",
    "TOKEN = os.getenv(\"MTM2Mzg3Nzk1MjAyMTk4NzQ2MA.GRv8ht.pwFcu7PTUYGe0jv85arKDGgv0JObzp3kY5xef8\")\n",
    "\n",
    "intents = discord.Intents.default()\n",
    "intents.message_content = True\n",
    "\n",
    "bot = commands.Bot(command_prefix=\"!\", intents=intents)\n",
    "\n",
    "@bot.event\n",
    "async def on_ready():\n",
    "    print(f\"✅ Bot conectado como {bot.user}\")\n",
    "\n",
    "@bot.command()\n",
    "async def limpar_bot(ctx, limite: int = 50):\n",
    "    \"\"\"Deleta mensagens de bots (inclusive webhooks)\"\"\"\n",
    "    def eh_bot(msg):\n",
    "        return msg.author.bot\n",
    "\n",
    "    deletadas = await ctx.channel.purge(limit=limite, check=eh_bot)\n",
    "    await ctx.send(f\"🧹 Apaguei {len(deletadas)} mensagens de bot.\", delete_after=5)\n",
    "    print(f\"🧼 Limpou {len(deletadas)} mensagens no canal {ctx.channel}\")\n",
    "\n",
    "if __name__ == \"__main__\":\n",
    "    if not TOKEN:\n",
    "        print(\"❌ Defina a variável de ambiente DISCORD_BOT_TOKEN antes de executar.\")\n",
    "    else:\n",
    "        bot.run(\"MTM2Mzg3Nzk1MjAyMTk4NzQ2MA.GRv8ht.pwFcu7PTUYGe0jv85arKDGgv0JObzp3kY5xef8\")\n",
    "\n",
    "\n"
   ]
  },
  {
   "cell_type": "code",
   "execution_count": 2,
   "id": "11738515",
   "metadata": {},
   "outputs": [
    {
     "name": "stdout",
     "output_type": "stream",
     "text": [
      "Collecting discord.py\n",
      "  Downloading discord_py-2.5.2-py3-none-any.whl.metadata (7.4 kB)\n",
      "Requirement already satisfied: aiohttp<4,>=3.7.4 in /home/lenovo/miniconda3/envs/worker/lib/python3.12/site-packages (from discord.py) (3.10.11)\n",
      "Requirement already satisfied: aiohappyeyeballs>=2.3.0 in /home/lenovo/miniconda3/envs/worker/lib/python3.12/site-packages (from aiohttp<4,>=3.7.4->discord.py) (2.4.4)\n",
      "Requirement already satisfied: aiosignal>=1.1.2 in /home/lenovo/miniconda3/envs/worker/lib/python3.12/site-packages (from aiohttp<4,>=3.7.4->discord.py) (1.3.1)\n",
      "Requirement already satisfied: attrs>=17.3.0 in /home/lenovo/miniconda3/envs/worker/lib/python3.12/site-packages (from aiohttp<4,>=3.7.4->discord.py) (24.2.0)\n",
      "Requirement already satisfied: frozenlist>=1.1.1 in /home/lenovo/miniconda3/envs/worker/lib/python3.12/site-packages (from aiohttp<4,>=3.7.4->discord.py) (1.5.0)\n",
      "Requirement already satisfied: multidict<7.0,>=4.5 in /home/lenovo/miniconda3/envs/worker/lib/python3.12/site-packages (from aiohttp<4,>=3.7.4->discord.py) (6.1.0)\n",
      "Requirement already satisfied: yarl<2.0,>=1.12.0 in /home/lenovo/miniconda3/envs/worker/lib/python3.12/site-packages (from aiohttp<4,>=3.7.4->discord.py) (1.18.3)\n",
      "Requirement already satisfied: idna>=2.0 in /home/lenovo/miniconda3/envs/worker/lib/python3.12/site-packages (from yarl<2.0,>=1.12.0->aiohttp<4,>=3.7.4->discord.py) (3.10)\n",
      "Requirement already satisfied: propcache>=0.2.0 in /home/lenovo/miniconda3/envs/worker/lib/python3.12/site-packages (from yarl<2.0,>=1.12.0->aiohttp<4,>=3.7.4->discord.py) (0.2.1)\n",
      "Downloading discord_py-2.5.2-py3-none-any.whl (1.2 MB)\n",
      "\u001b[2K   \u001b[90m━━━━━━━━━━━━━━━━━━━━━━━━━━━━━━━━━━━━━━━━\u001b[0m \u001b[32m1.2/1.2 MB\u001b[0m \u001b[31m4.0 MB/s\u001b[0m eta \u001b[36m0:00:00\u001b[0ma \u001b[36m0:00:01\u001b[0m\n",
      "\u001b[?25hInstalling collected packages: discord.py\n",
      "Successfully installed discord.py-2.5.2\n"
     ]
    }
   ],
   "source": [
    "!pip install -U discord.py"
   ]
  },
  {
   "cell_type": "code",
   "execution_count": null,
   "id": "fa3eeacc",
   "metadata": {},
   "outputs": [],
   "source": []
  }
 ],
 "metadata": {
  "kernelspec": {
   "display_name": "worker",
   "language": "python",
   "name": "python3"
  },
  "language_info": {
   "codemirror_mode": {
    "name": "ipython",
    "version": 3
   },
   "file_extension": ".py",
   "mimetype": "text/x-python",
   "name": "python",
   "nbconvert_exporter": "python",
   "pygments_lexer": "ipython3",
   "version": "3.12.9"
  }
 },
 "nbformat": 4,
 "nbformat_minor": 5
}
